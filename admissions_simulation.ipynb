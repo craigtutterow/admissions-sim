{
 "cells": [
  {
   "cell_type": "code",
   "execution_count": 1,
   "metadata": {
    "collapsed": false
   },
   "outputs": [],
   "source": [
    "from IPython.display import display, Math, Latex\n",
    "import math\n",
    "import matplotlib.pyplot as plt\n",
    "%matplotlib inline  \n",
    "import numpy as np\n",
    "import pandas as pd\n",
    "import random\n",
    "import scipy.stats as stats\n",
    "from scipy.special import comb as choose"
   ]
  },
  {
   "cell_type": "code",
   "execution_count": 2,
   "metadata": {
    "collapsed": false
   },
   "outputs": [],
   "source": [
    "def admissions_sim(num_students, num_schools, num_apps_per_student, num_accepted_per_school):\n",
    "    student_ids = [student for student in range(num_students)]\n",
    "    school_ids = [school for school in range(num_schools)]\n",
    "    apps_matrix = np.zeros((num_students, num_schools))\n",
    "    for student_id in student_ids:\n",
    "      schools_applied_to = sorted(random.sample(school_ids, num_apps_per_student))\n",
    "      student_apps = [1 if school in schools_applied_to else 0 for school in school_ids]\n",
    "      apps_matrix[student_id,:] = student_apps  \n",
    "    adm_decisions_matrix = np.zeros((num_students, num_schools))\n",
    "    for school_id in school_ids:\n",
    "      applicants =  [i for i, student in enumerate(apps_matrix[:,school_id]) if student == 1]\n",
    "      students_accepted = set(random.sample(applicants, num_accepted_per_school)) \n",
    "      adm_decisions = [1 if student in students_accepted else 0 for student in student_ids]\n",
    "      adm_decisions_matrix[:,school_id] = adm_decisions\n",
    "    enrollment_matrix = np.zeros((num_students, num_schools))\n",
    "    for student_id in student_ids:\n",
    "      acceptances =  [i for i, school in enumerate(adm_decisions_matrix[student_id,:]) if school == 1]\n",
    "      if acceptances:\n",
    "        school_choice = random.choice(acceptances)\n",
    "      else:\n",
    "        school_choice = None\n",
    "      enrollment_decision = [1 if school==school_choice else 0 for school in school_ids]\n",
    "      enrollment_matrix[student_id,:] = enrollment_decision\n",
    "    return apps_matrix, adm_decisions_matrix, enrollment_matrix"
   ]
  },
  {
   "cell_type": "code",
   "execution_count": 3,
   "metadata": {
    "collapsed": true
   },
   "outputs": [],
   "source": [
    "def prove(apps_matrix, adm_decisions_matrix, enrollment_matrix, print_output):\n",
    "    total_applications = np.sum(apps_matrix)\n",
    "    print \"Total Students enrolled = \" + str(np.sum(enrollment_matrix))\n",
    "    school_outcomes = pd.DataFrame(index = school_ids, columns = ['applications', 'acceptances', 'matriculants', 'acceptance_rate', 'yield_rate'])\n",
    "    school_outcomes['applications'] = np.sum(apps_matrix, axis = 0)\n",
    "    school_outcomes['acceptances'] = np.sum(adm_decisions_matrix, axis = 0)\n",
    "    school_outcomes['matriculants'] = np.sum(enrollment_matrix, axis = 0)\n",
    "    school_outcomes['acceptance_rate'] = school_outcomes['acceptances']/school_outcomes['applications']\n",
    "    school_outcomes['yield_rate'] = school_outcomes['matriculants']/school_outcomes['acceptances']\n",
    "    avg_acceptance_rate = np.mean(school_outcomes['acceptance_rate'])\n",
    "    avg_yield_rate = np.mean(school_outcomes['yield_rate'])\n",
    "    if print_output:\n",
    "        print '\\n Formula 1 (p. 290): '\n",
    "        display(Math(r'Average\\ Acceptance\\ Rate=\\frac{ma}{nb}'))\n",
    "        formula_1_result = float(num_schools*num_accepted_per_school)/(num_students*num_apps_per_student)\n",
    "        print str(\"Derived Average Acceptance Rate = \") + str(formula_1_result)\n",
    "        print \"Simulated Average Acceptance Rate = \" + str(avg_acceptance_rate)\n",
    "        #by formula 4 (p. 291)\n",
    "        prob_acceptance_per_school = formula_1_result\n",
    "        prob = prob_acceptance_per_school\n",
    "        print '\\n Formula 10 (p. 292): '\n",
    "        display(Math(r'Average\\ Yield\\ Rate='))\n",
    "        display(Math(r'C_{ij}={\\displaystyle {\\displaystyle \\sum_{y\\in1,..,b\\}}\\frac{1}{y}P(i}}\\ accepted\\ at\\ y-1\\ other\\;js)P(i\\ rejected\\ at\\ b-y\\ other\\ js)\\binom{b-1}{y-1}'))\n",
    "        formula_10_result = 0\n",
    "        for app in xrange(1, num_apps_per_student+1):\n",
    "          app = float(app)\n",
    "          formula_10_result = formula_10_result + (\n",
    "                              choose((num_apps_per_student-1),(app-1)) * (\n",
    "                              (1/app)*(prob**(app-1))*((1-prob)**(num_apps_per_student-app))))\n",
    "        print str(\"Derived Average Yield Rate = \") + str(formula_10_result)\n",
    "        print \"Simulated Average Yield Rate = \" + str(avg_yield_rate)\n",
    "    return [avg_acceptance_rate, avg_yield_rate]"
   ]
  },
  {
   "cell_type": "code",
   "execution_count": 4,
   "metadata": {
    "collapsed": false
   },
   "outputs": [
    {
     "name": "stdout",
     "output_type": "stream",
     "text": [
      "Total Students enrolled = 91330.0\n",
      "\n",
      " Formula 1 (p. 290): \n"
     ]
    },
    {
     "data": {
      "text/latex": [
       "$$Average\\ Acceptance\\ Rate=\\frac{ma}{nb}$$"
      ],
      "text/plain": [
       "<IPython.core.display.Math object>"
      ]
     },
     "metadata": {},
     "output_type": "display_data"
    },
    {
     "name": "stdout",
     "output_type": "stream",
     "text": [
      "Derived Average Acceptance Rate = 0.333333333333\n",
      "Simulated Average Acceptance Rate = 0.333342453643\n",
      "\n",
      " Formula 10 (p. 292): \n"
     ]
    },
    {
     "data": {
      "text/latex": [
       "$$Average\\ Yield\\ Rate=$$"
      ],
      "text/plain": [
       "<IPython.core.display.Math object>"
      ]
     },
     "metadata": {},
     "output_type": "display_data"
    },
    {
     "data": {
      "text/latex": [
       "$$C_{ij}={\\displaystyle {\\displaystyle \\sum_{y\\in1,..,b\\}}\\frac{1}{y}P(i}}\\ accepted\\ at\\ y-1\\ other\\;js)P(i\\ rejected\\ at\\ b-y\\ other\\ js)\\binom{b-1}{y-1}$$"
      ],
      "text/plain": [
       "<IPython.core.display.Math object>"
      ]
     },
     "metadata": {},
     "output_type": "display_data"
    },
    {
     "name": "stdout",
     "output_type": "stream",
     "text": [
      "Derived Average Yield Rate = 0.456104252401\n",
      "Simulated Average Yield Rate = 0.45665\n"
     ]
    },
    {
     "data": {
      "text/plain": [
       "[0.33334245364338394, 0.45664999999999994]"
      ]
     },
     "execution_count": 4,
     "metadata": {},
     "output_type": "execute_result"
    }
   ],
   "source": [
    "#example run\n",
    "num_students = 100000\n",
    "num_schools = 20\n",
    "num_apps_per_student = 6\n",
    "num_accepted_per_school = 10000\n",
    "student_ids = range(num_students)\n",
    "school_ids = range(num_schools)\n",
    "apps, decisions, enrollment = admissions_sim(num_students, num_schools, num_apps_per_student, num_accepted_per_school)\n",
    "prove(apps, decisions, enrollment, True)"
   ]
  },
  {
   "cell_type": "code",
   "execution_count": 5,
   "metadata": {
    "collapsed": false
   },
   "outputs": [
    {
     "name": "stdout",
     "output_type": "stream",
     "text": [
      "Total Students enrolled = 96264.0\n",
      "Total Students enrolled = 91164.0\n",
      "Total Students enrolled = 89645.0\n",
      "Total Students enrolled = 88666.0\n",
      "Total Students enrolled = 88339.0\n"
     ]
    },
    {
     "data": {
      "text/html": [
       "<div>\n",
       "<table border=\"1\" class=\"dataframe\">\n",
       "  <thead>\n",
       "    <tr style=\"text-align: right;\">\n",
       "      <th></th>\n",
       "      <th>applications_per_student</th>\n",
       "      <th>avg_acceptance_rate</th>\n",
       "      <th>avg_yield_rate</th>\n",
       "    </tr>\n",
       "  </thead>\n",
       "  <tbody>\n",
       "    <tr>\n",
       "      <th>0</th>\n",
       "      <td>3</td>\n",
       "      <td>0.666694</td>\n",
       "      <td>0.48132</td>\n",
       "    </tr>\n",
       "    <tr>\n",
       "      <th>1</th>\n",
       "      <td>6</td>\n",
       "      <td>0.333341</td>\n",
       "      <td>0.45582</td>\n",
       "    </tr>\n",
       "    <tr>\n",
       "      <th>2</th>\n",
       "      <td>9</td>\n",
       "      <td>0.222225</td>\n",
       "      <td>0.448225</td>\n",
       "    </tr>\n",
       "    <tr>\n",
       "      <th>3</th>\n",
       "      <td>12</td>\n",
       "      <td>0.166667</td>\n",
       "      <td>0.44333</td>\n",
       "    </tr>\n",
       "    <tr>\n",
       "      <th>4</th>\n",
       "      <td>15</td>\n",
       "      <td>0.133334</td>\n",
       "      <td>0.441695</td>\n",
       "    </tr>\n",
       "  </tbody>\n",
       "</table>\n",
       "</div>"
      ],
      "text/plain": [
       "  applications_per_student avg_acceptance_rate avg_yield_rate\n",
       "0                        3            0.666694        0.48132\n",
       "1                        6            0.333341        0.45582\n",
       "2                        9            0.222225       0.448225\n",
       "3                       12            0.166667        0.44333\n",
       "4                       15            0.133334       0.441695"
      ]
     },
     "execution_count": 5,
     "metadata": {},
     "output_type": "execute_result"
    }
   ],
   "source": [
    "paper_simulation_results = pd.DataFrame(index = range(5), columns = ['applications_per_student', 'avg_acceptance_rate', 'avg_yield_rate'])\n",
    "i = 0\n",
    "for num_apps_per_student in [3, 6, 9, 12, 15]:\n",
    "    num_students = 100000\n",
    "    num_schools = 20\n",
    "    num_accepted_per_school = 10000\n",
    "    apps, decisions, enrollment = admissions_sim(num_students, num_schools, num_apps_per_student, num_accepted_per_school)\n",
    "    sim_results = prove(apps, decisions, enrollment, False)\n",
    "    avg_acceptance_rate = sim_results[0]\n",
    "    avg_yield_rate = sim_results[1]\n",
    "    paper_simulation_results.ix[i] = [num_apps_per_student, avg_acceptance_rate, avg_yield_rate]\n",
    "    i+=1\n",
    "paper_simulation_results"
   ]
  },
  {
   "cell_type": "code",
   "execution_count": 6,
   "metadata": {
    "collapsed": false
   },
   "outputs": [
    {
     "data": {
      "text/plain": [
       "<matplotlib.text.Text at 0x7f35ed3ef5d0>"
      ]
     },
     "execution_count": 6,
     "metadata": {},
     "output_type": "execute_result"
    },
    {
     "data": {
      "image/png": "[encoded data removed]",
      "text/plain": [
       "<matplotlib.figure.Figure at 0x7f35fae4bc90>"
      ]
     },
     "metadata": {},
     "output_type": "display_data"
    }
   ],
   "source": [
    "plt.figure(figsize=(10,7))\n",
    "plt.plot(paper_simulation_results['applications_per_student'], paper_simulation_results['avg_acceptance_rate'], marker = 'o')\n",
    "plt.suptitle('Average Acceptance Rate by Number of Applications per Student', fontsize=14)\n",
    "plt.xlabel('Number of Applications Per Student',fontsize=14)\n",
    "plt.ylabel('Average Acceptance Rate',fontsize=14)"
   ]
  },
  {
   "cell_type": "code",
   "execution_count": 7,
   "metadata": {
    "collapsed": false
   },
   "outputs": [
    {
     "data": {
      "text/plain": [
       "<matplotlib.text.Text at 0x7f35ed302590>"
      ]
     },
     "execution_count": 7,
     "metadata": {},
     "output_type": "execute_result"
    },
    {
     "data": {
      "image/png": "[encoded data removed]",
      "text/plain": [
       "<matplotlib.figure.Figure at 0x7f36183f5a10>"
      ]
     },
     "metadata": {},
     "output_type": "display_data"
    }
   ],
   "source": [
    "plt.figure(figsize=(10,7))\n",
    "plt.plot(paper_simulation_results['applications_per_student'], paper_simulation_results['avg_yield_rate'], marker='o')\n",
    "plt.suptitle('Average Acceptance Rate by Number of Applications per Student', fontsize=14)\n",
    "plt.xlabel('Number of Applications Per Student',fontsize=14)\n",
    "plt.ylabel('Average Yield Rate',fontsize=14)"
   ]
  }
 ],
 "metadata": {
  "kernelspec": {
   "display_name": "Python 2",
   "language": "python",
   "name": "python2"
  },
  "language_info": {
   "codemirror_mode": {
    "name": "ipython",
    "version": 2
   },
   "file_extension": ".py",
   "mimetype": "text/x-python",
   "name": "python",
   "nbconvert_exporter": "python",
   "pygments_lexer": "ipython2",
   "version": "2.7.9"
  }
 },
 "nbformat": 4,
 "nbformat_minor": 0
}
